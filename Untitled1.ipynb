{
 "cells": [
  {
   "cell_type": "code",
   "execution_count": 8,
   "id": "c05a8b95",
   "metadata": {},
   "outputs": [],
   "source": [
    "import pandas as pd\n",
    "import numpy as np\n",
    "from sklearn.ensemble import RandomForestRegressor\n",
    "from sklearn.model_selection import train_test_split, KFold\n",
    "from sklearn.metrics import confusion_matrix\n",
    "import warnings\n",
    "import csv\n",
    "import subprocess\n",
    "import select\n",
    "import time\n",
    "import re\n",
    "import ipaddress\n",
    "from datetime import datetime\n",
    "import pickle\n",
    "\n",
    "warnings.filterwarnings(\"ignore\", category=DeprecationWarning)\n",
    "warnings.filterwarnings(\"ignore\", category=FutureWarning)"
   ]
  },
  {
   "cell_type": "code",
   "execution_count": 9,
   "id": "1691366b",
   "metadata": {},
   "outputs": [],
   "source": [
    "class KFoldValidation():\n",
    "    def GetAverageScore(self, n, features, label, model, X_train):\n",
    "        kf = KFold(n_splits=n, random_state=None, shuffle=True)\n",
    "        X = features\n",
    "        y = label\n",
    "\n",
    "        train_acc = 0.0\n",
    "        test_acc = 0.0\n",
    "        for train_i, test_i in kf.split(X_train):\n",
    "            xtrain, xtest = X[train_i], X[test_i]\n",
    "            ytrain, ytest = y[train_i], y[test_i]\n",
    "            model.fit(xtrain, ytrain)\n",
    "            train_acc += model.score(xtrain, ytrain)\n",
    "            test_acc += model.score(xtest, ytest)\n",
    "\n",
    "        print(\"Average Train Accuracy : \" + str(train_acc / n))\n",
    "        print(\"Average Test Accuracy : \" + str(test_acc / n))"
   ]
  },
  {
   "cell_type": "code",
   "execution_count": 10,
   "id": "efc0d125",
   "metadata": {},
   "outputs": [],
   "source": [
    "class SSHDataAddition:\n",
    "    df = ['user', 'is_private', 'is_failure', 'is_root', 'is_valid', 'not_valid_count', \n",
    "          'ip_failure', 'ip_success', 'no_failure', 'first', 'td', 'ts', 'class']\n",
    "\n",
    "    def __init__(self):\n",
    "        print(\"Initializing data addition modules\")\n",
    "\n",
    "    def writeSSH(self, df_temp):\n",
    "        print(df_temp)\n",
    "        icmp_writer = csv.DictWriter(open('data/SSH.csv', 'a+'), fieldnames=self.df)\n",
    "        icmp_writer.writerow(df_temp)"
   ]
  },
  {
   "cell_type": "code",
   "execution_count": 11,
   "id": "f8a5a1e9",
   "metadata": {},
   "outputs": [],
   "source": [
    "class Parse_SSH:\n",
    "    def __init__(self):\n",
    "        self.dict = {}\n",
    "        self.user_account = ['osamac', 'kamran', 'student', 'root']\n",
    "        self.number_of_failure = 0\n",
    "\n",
    "    def isValid(self, name):\n",
    "        return \"1\" if name in self.user_account else \"0\"\n",
    "\n",
    "    def ParseUsr(self, line):\n",
    "        # Various regex patterns to extract user from log lines\n",
    "        # ...\n",
    "        return usr.group(2) if usr else \"-1\"\n",
    "\n",
    "    def ParseIP(self, line):\n",
    "        ip = re.search(r'(\\bfrom\\s)(\\b(?:[0-9]{1,3}\\.){3}[0-9]{1,3}\\b)', line)\n",
    "        return ip.group(2) if ip else \"-1\"\n",
    "\n",
    "    def isPrivate(self, ip):\n",
    "        try:\n",
    "            return int(ipaddress.ip_address(ip).is_private)\n",
    "        except:\n",
    "            return 0\n",
    "\n",
    "    def ParseDate(self, line):\n",
    "        date = line[0:15]\n",
    "        date = datetime.strptime(date, '%b %d %H:%M:%S')\n",
    "        date = date.replace(year=2018)\n",
    "        return date.timestamp()\n",
    "\n",
    "    def isRoot(self, line):\n",
    "        return \"1\" if \"root\" in line else \"0\"\n",
    "\n",
    "    def SSHProcessed(self, line):\n",
    "        t = self.ParseDate(line)\n",
    "        # Logic to classify log entries as successful or failed\n",
    "        # ...\n",
    "        if usr != \"-1\" and ip != \"-1\":\n",
    "            self.dict[ip] = {\n",
    "                # Dictionary of extracted values\n",
    "            }\n",
    "            return self.dict[ip]\n",
    "        return {}"
   ]
  },
  {
   "cell_type": "code",
   "execution_count": 16,
   "id": "71e25fe1",
   "metadata": {},
   "outputs": [],
   "source": [
    "class SSHPerdiction:\n",
    "    def __init__(self):\n",
    "        print(\"Loading Models:\")\n",
    "        ssh_fname = \"models/ssh_rfc.pkl\"  # Save the classifier model as ssh_rfc.pkl instead of ssh_rfr.pkl\n",
    "        self.ssh_model = pickle.load(open(ssh_fname, 'rb'))\n",
    "\n",
    "    def prepareDict(self, dict):\n",
    "        return [\n",
    "            dict['is_private'],\n",
    "            dict['is_failure'],\n",
    "            dict['is_root'],\n",
    "            dict['is_valid'],\n",
    "            dict['not_valid_count'],\n",
    "            dict['ip_failure'],\n",
    "            dict['ip_success'],\n",
    "            dict['no_failure'],\n",
    "            dict['first']\n",
    "        ]\n",
    "\n",
    "    def predictSSH(self, instance):\n",
    "        return self.ssh_model.predict([instance])[0]  # Predict class directly (0 or 1)"
   ]
  },
  {
   "cell_type": "code",
   "execution_count": 24,
   "id": "773c5a1e",
   "metadata": {},
   "outputs": [
    {
     "name": "stdout",
     "output_type": "stream",
     "text": [
      "Training Model..\n",
      "Train Accuracy :  1.0\n",
      "Test Accuracy :  1.0\n"
     ]
    }
   ],
   "source": [
    "# Reading CSV Data\n",
    "colum = ['user', 'is_private', 'is_failure', 'is_root', 'is_valid', 'not_valid_count',\n",
    "         'ip_failure', 'ip_success', 'no_failure', 'first', 'td', 'ts', 'class']\n",
    "\n",
    "csv = pd.read_csv(\"SSH.csv\")\n",
    "df = pd.DataFrame(csv, columns=colum)\n",
    "\n",
    "# Preprocess Data\n",
    "df.pop('user')\n",
    "df.pop('ts')\n",
    "df.pop('td')\n",
    "label = np.array(df.pop(\"class\"))\n",
    "features = np.array(df)\n",
    "X_train, X_test, y_train, y_test = train_test_split(features, label, test_size=0.1, shuffle=True, random_state=22)\n",
    "\n",
    "# Training Model\n",
    "print(\"Training Model..\")\n",
    "model = RandomForestClassifier()  # Changed to RandomForestClassifier\n",
    "model.fit(X_train, y_train)\n",
    "\n",
    "# Accuracy Calculation\n",
    "print(\"Train Accuracy : \", model.score(X_train, y_train))\n",
    "print(\"Test Accuracy : \", model.score(X_test, y_test))"
   ]
  },
  {
   "cell_type": "code",
   "execution_count": 29,
   "id": "143e2491",
   "metadata": {},
   "outputs": [
    {
     "name": "stdout",
     "output_type": "stream",
     "text": [
      "[[22  0]\n",
      " [ 1  6]]\n",
      "Average Train Accuracy : 1.0\n",
      "Average Test Accuracy : 0.9921568627450981\n"
     ]
    }
   ],
   "source": [
    "# Confusion Matrix\n",
    "y_pred = model.predict(X_test)\n",
    "cnf_matrix = confusion_matrix(y_test, y_pred)\n",
    "print(cnf_matrix)\n",
    "\n",
    "# K-Fold Validation\n",
    "kf = KFoldValidation()\n",
    "kf.GetAverageScore(3, features, label, RandomForestClassifier(), X_train)  # Changed to RandomForestClassifier"
   ]
  },
  {
   "cell_type": "code",
   "execution_count": null,
   "id": "1d3c2f68",
   "metadata": {},
   "outputs": [],
   "source": []
  }
 ],
 "metadata": {
  "kernelspec": {
   "display_name": "Python 3 (ipykernel)",
   "language": "python",
   "name": "python3"
  },
  "language_info": {
   "codemirror_mode": {
    "name": "ipython",
    "version": 3
   },
   "file_extension": ".py",
   "mimetype": "text/x-python",
   "name": "python",
   "nbconvert_exporter": "python",
   "pygments_lexer": "ipython3",
   "version": "3.11.5"
  }
 },
 "nbformat": 4,
 "nbformat_minor": 5
}
